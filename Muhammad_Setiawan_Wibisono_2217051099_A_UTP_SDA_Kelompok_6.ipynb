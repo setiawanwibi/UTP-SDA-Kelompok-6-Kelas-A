{
  "nbformat": 4,
  "nbformat_minor": 0,
  "metadata": {
    "colab": {
      "provenance": []
    },
    "kernelspec": {
      "name": "python3",
      "display_name": "Python 3"
    },
    "language_info": {
      "name": "python"
    }
  },
  "cells": [
    {
      "cell_type": "code",
      "execution_count": null,
      "metadata": {
        "id": "lg3KnZT9CF9u"
      },
      "outputs": [],
      "source": [
        "# Bagian 1 : Muhammad Setiawan Wibisono (2217051099)\n",
        "print(\"Selamat Datang di StarCom\")\n",
        "print()\n",
        "print(\"Profil Pembuat Program\")\n",
        "print()\n",
        "kelompok = [\"David Nico Natanael Rumahorbo (2217051129)\",\n",
        "            \"Dimas Habib Rizki             (2217051059)\",\n",
        "            \"Muhammad Setiawan Wibisono    (2217051099)\"]\n",
        "print(kelompok[0])\n",
        "print(kelompok[1])\n",
        "print(kelompok[2])\n",
        "print()\n",
        "\n",
        "class Beli:\n",
        "    def __init__(self):\n",
        "        self.pembelian = []\n",
        "\n",
        "    def tambah_barang(self, tambah):\n",
        "        self.pembelian.append(tambah)\n",
        "\n",
        "beli = Beli()"
      ]
    }
  ]
}